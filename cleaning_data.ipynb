{
 "cells": [
  {
   "cell_type": "markdown",
   "id": "bb7f63b2-662d-4288-82ec-6bfb63b48cb2",
   "metadata": {},
   "source": [
    "__Data:__ <br> Suffolk County, NY Salaries By Department\n",
    "\n",
    "__Source:__ <br> https://opendata.suffolkcountyny.gov/datasets/a857361de9c1403187f2d3129390f1d4_0/explore\n",
    "\n",
    "__Summary:__ <br>The County of Suffolk Annual Salaries File for the Year 2022 is a yearly summary of Payroll Data for all Suffolk County employees.<br>\n",
    "This file contains the Employee Names and Hired Date along with their most recent Job Title and Department.  In addition, the file contains the Employee’s Regular Pay Rate (Hourly, Biweekly or Annual Salary), the Year to Date Regular Earnings, Longevity Pay, Overtime Pay, and Other Payments (comprised of Holiday Pay, Night Differential Pay, Cleaning and Clothing Allowances, Taxable Legal Benefit Amounts, etc.).  If an employee has been terminated or has separated from County employment, the Separation Payment Amount (if applicable), and Termination Date is also included."
   ]
  },
  {
   "cell_type": "code",
   "execution_count": 1,
   "id": "47350791-1b39-447f-bb71-aeb3368ea716",
   "metadata": {
    "tags": []
   },
   "outputs": [],
   "source": [
    "import pandas as pd"
   ]
  },
  {
   "cell_type": "code",
   "execution_count": 2,
   "id": "a4e1b72b-ff19-4eaf-a858-c006f9906bbf",
   "metadata": {
    "tags": []
   },
   "outputs": [
    {
     "data": {
      "text/html": [
       "<div>\n",
       "<style scoped>\n",
       "    .dataframe tbody tr th:only-of-type {\n",
       "        vertical-align: middle;\n",
       "    }\n",
       "\n",
       "    .dataframe tbody tr th {\n",
       "        vertical-align: top;\n",
       "    }\n",
       "\n",
       "    .dataframe thead th {\n",
       "        text-align: right;\n",
       "    }\n",
       "</style>\n",
       "<table border=\"1\" class=\"dataframe\">\n",
       "  <thead>\n",
       "    <tr style=\"text-align: right;\">\n",
       "      <th></th>\n",
       "      <th>Year</th>\n",
       "      <th>Last_Name</th>\n",
       "      <th>First_Name</th>\n",
       "      <th>Department</th>\n",
       "      <th>Job_Title</th>\n",
       "      <th>BU</th>\n",
       "      <th>Salary</th>\n",
       "      <th>Longevity</th>\n",
       "      <th>Overtime</th>\n",
       "      <th>Total_Earnings</th>\n",
       "      <th>Hire_Date</th>\n",
       "      <th>Terminate</th>\n",
       "      <th>Termination_Date</th>\n",
       "      <th>FID</th>\n",
       "    </tr>\n",
       "  </thead>\n",
       "  <tbody>\n",
       "    <tr>\n",
       "      <th>0</th>\n",
       "      <td>2022</td>\n",
       "      <td>AARON</td>\n",
       "      <td>JUNE</td>\n",
       "      <td>Board Of Elections</td>\n",
       "      <td>9208T - ABSENTEE BALLOT COORDINATOR</td>\n",
       "      <td>Temp</td>\n",
       "      <td>2641.25</td>\n",
       "      <td>0.0</td>\n",
       "      <td>0.0</td>\n",
       "      <td>2641.25</td>\n",
       "      <td>2022/05/01 00:00:00+00</td>\n",
       "      <td>0.0</td>\n",
       "      <td>NaN</td>\n",
       "      <td>1</td>\n",
       "    </tr>\n",
       "  </tbody>\n",
       "</table>\n",
       "</div>"
      ],
      "text/plain": [
       "   Year Last_Name First_Name          Department  \\\n",
       "0  2022     AARON       JUNE  Board Of Elections   \n",
       "\n",
       "                             Job_Title    BU   Salary  Longevity  Overtime  \\\n",
       "0  9208T - ABSENTEE BALLOT COORDINATOR  Temp  2641.25        0.0       0.0   \n",
       "\n",
       "   Total_Earnings               Hire_Date  Terminate Termination_Date  FID  \n",
       "0         2641.25  2022/05/01 00:00:00+00        0.0              NaN    1  "
      ]
     },
     "execution_count": 2,
     "metadata": {},
     "output_type": "execute_result"
    }
   ],
   "source": [
    "df = pd.read_csv('County_Salaries_By_Department_-_2022.csv')\n",
    "df.head(1)"
   ]
  },
  {
   "cell_type": "code",
   "execution_count": 3,
   "id": "dec24f24-10da-4a52-a60d-ca36dfe83e06",
   "metadata": {
    "tags": []
   },
   "outputs": [
    {
     "data": {
      "text/html": [
       "<div>\n",
       "<style scoped>\n",
       "    .dataframe tbody tr th:only-of-type {\n",
       "        vertical-align: middle;\n",
       "    }\n",
       "\n",
       "    .dataframe tbody tr th {\n",
       "        vertical-align: top;\n",
       "    }\n",
       "\n",
       "    .dataframe thead th {\n",
       "        text-align: right;\n",
       "    }\n",
       "</style>\n",
       "<table border=\"1\" class=\"dataframe\">\n",
       "  <thead>\n",
       "    <tr style=\"text-align: right;\">\n",
       "      <th></th>\n",
       "      <th>Department</th>\n",
       "      <th>Job_Title</th>\n",
       "      <th>BU</th>\n",
       "      <th>Salary</th>\n",
       "      <th>Longevity</th>\n",
       "      <th>Overtime</th>\n",
       "      <th>Total_Earnings</th>\n",
       "      <th>Hire_Date</th>\n",
       "      <th>Terminate</th>\n",
       "      <th>Termination_Date</th>\n",
       "    </tr>\n",
       "  </thead>\n",
       "  <tbody>\n",
       "    <tr>\n",
       "      <th>0</th>\n",
       "      <td>Board Of Elections</td>\n",
       "      <td>9208T - ABSENTEE BALLOT COORDINATOR</td>\n",
       "      <td>Temp</td>\n",
       "      <td>2641.25</td>\n",
       "      <td>0.0</td>\n",
       "      <td>0.00</td>\n",
       "      <td>2641.25</td>\n",
       "      <td>2022/05/01 00:00:00+00</td>\n",
       "      <td>0.0</td>\n",
       "      <td>NaN</td>\n",
       "    </tr>\n",
       "    <tr>\n",
       "      <th>1</th>\n",
       "      <td>Law</td>\n",
       "      <td>0905C - ADMINISTRATOR II</td>\n",
       "      <td>Association of Municipal Employees (AME-White ...</td>\n",
       "      <td>84950.80</td>\n",
       "      <td>2250.0</td>\n",
       "      <td>984.69</td>\n",
       "      <td>92646.91</td>\n",
       "      <td>1999/05/03 00:00:00+00</td>\n",
       "      <td>0.0</td>\n",
       "      <td>NaN</td>\n",
       "    </tr>\n",
       "  </tbody>\n",
       "</table>\n",
       "</div>"
      ],
      "text/plain": [
       "           Department                            Job_Title  \\\n",
       "0  Board Of Elections  9208T - ABSENTEE BALLOT COORDINATOR   \n",
       "1                 Law             0905C - ADMINISTRATOR II   \n",
       "\n",
       "                                                  BU    Salary  Longevity  \\\n",
       "0                                               Temp   2641.25        0.0   \n",
       "1  Association of Municipal Employees (AME-White ...  84950.80     2250.0   \n",
       "\n",
       "   Overtime  Total_Earnings               Hire_Date  Terminate  \\\n",
       "0      0.00         2641.25  2022/05/01 00:00:00+00        0.0   \n",
       "1    984.69        92646.91  1999/05/03 00:00:00+00        0.0   \n",
       "\n",
       "  Termination_Date  \n",
       "0              NaN  \n",
       "1              NaN  "
      ]
     },
     "execution_count": 3,
     "metadata": {},
     "output_type": "execute_result"
    }
   ],
   "source": [
    "# removing personal information\n",
    "df.drop(['Last_Name', 'First_Name'], axis=1, inplace=True)\n",
    "# removing year since all are from 2022\n",
    "df.drop(['Year'], axis=1, inplace=True)\n",
    "# removing FID to use our index instead\n",
    "df.drop(['FID'], axis=1, inplace=True)\n",
    "# renaming \n",
    "df.head(2)"
   ]
  },
  {
   "cell_type": "code",
   "execution_count": 4,
   "id": "de324945-6496-4ade-8559-091edb039e35",
   "metadata": {
    "tags": []
   },
   "outputs": [],
   "source": [
    "# renaming columns with context\n",
    "df.rename(\n",
    "    columns = {\n",
    "        'Longevity':'Longevity_Pay', \n",
    "        'Overtime':'Overtime_Pay', \n",
    "        'Terminate':'Termination_Pay', \n",
    "        'Total_Earnings':'Total_Pay', \n",
    "        'BU':'Bargaining_Unit'\n",
    "    },\n",
    "    inplace=True\n",
    ")"
   ]
  },
  {
   "cell_type": "code",
   "execution_count": 5,
   "id": "42b9f7d8-2d19-41e3-9207-c4901f030bd1",
   "metadata": {
    "tags": []
   },
   "outputs": [],
   "source": [
    "# formatting job title to only include title and no code\n",
    "def format_job_title(s):\n",
    "    if('-' in s):\n",
    "        return s.split('-')[1].strip()\n",
    "    else:\n",
    "        return s\n",
    "\n",
    "\n",
    "df['Job_Title'] = df['Job_Title'].apply(format_job_title)"
   ]
  },
  {
   "cell_type": "code",
   "execution_count": 6,
   "id": "e26a67fe-1c59-413d-a22f-4ef7dc4d9d90",
   "metadata": {
    "tags": []
   },
   "outputs": [
    {
     "data": {
      "text/html": [
       "<div>\n",
       "<style scoped>\n",
       "    .dataframe tbody tr th:only-of-type {\n",
       "        vertical-align: middle;\n",
       "    }\n",
       "\n",
       "    .dataframe tbody tr th {\n",
       "        vertical-align: top;\n",
       "    }\n",
       "\n",
       "    .dataframe thead th {\n",
       "        text-align: right;\n",
       "    }\n",
       "</style>\n",
       "<table border=\"1\" class=\"dataframe\">\n",
       "  <thead>\n",
       "    <tr style=\"text-align: right;\">\n",
       "      <th></th>\n",
       "      <th>Department</th>\n",
       "      <th>Job_Title</th>\n",
       "      <th>Bargaining_Unit</th>\n",
       "      <th>Salary</th>\n",
       "      <th>Longevity_Pay</th>\n",
       "      <th>Overtime_Pay</th>\n",
       "      <th>Total_Pay</th>\n",
       "      <th>Hire_Date</th>\n",
       "      <th>Termination_Pay</th>\n",
       "      <th>Termination_Date</th>\n",
       "    </tr>\n",
       "  </thead>\n",
       "  <tbody>\n",
       "    <tr>\n",
       "      <th>0</th>\n",
       "      <td>Board Of Elections</td>\n",
       "      <td>ABSENTEE BALLOT COORDINATOR</td>\n",
       "      <td>Temp</td>\n",
       "      <td>2641.25</td>\n",
       "      <td>0.0</td>\n",
       "      <td>0.00</td>\n",
       "      <td>2641.25</td>\n",
       "      <td>2022/05/01 00:00:00+00</td>\n",
       "      <td>0.0</td>\n",
       "      <td>NaN</td>\n",
       "    </tr>\n",
       "    <tr>\n",
       "      <th>1</th>\n",
       "      <td>Law</td>\n",
       "      <td>ADMINISTRATOR II</td>\n",
       "      <td>Association of Municipal Employees (AME-White ...</td>\n",
       "      <td>84950.80</td>\n",
       "      <td>2250.0</td>\n",
       "      <td>984.69</td>\n",
       "      <td>92646.91</td>\n",
       "      <td>1999/05/03 00:00:00+00</td>\n",
       "      <td>0.0</td>\n",
       "      <td>NaN</td>\n",
       "    </tr>\n",
       "    <tr>\n",
       "      <th>2</th>\n",
       "      <td>Social Services</td>\n",
       "      <td>OFFICE ASSISTANT</td>\n",
       "      <td>Temp</td>\n",
       "      <td>3150.00</td>\n",
       "      <td>0.0</td>\n",
       "      <td>0.00</td>\n",
       "      <td>3150.00</td>\n",
       "      <td>2022/01/31 00:00:00+00</td>\n",
       "      <td>0.0</td>\n",
       "      <td>2022/04/20 00:00:00+00</td>\n",
       "    </tr>\n",
       "    <tr>\n",
       "      <th>3</th>\n",
       "      <td>Public Works</td>\n",
       "      <td>AUTO EQUIPMENT OPERATOR</td>\n",
       "      <td>Association of Municipal Employees (AME-Blue C...</td>\n",
       "      <td>34992.39</td>\n",
       "      <td>0.0</td>\n",
       "      <td>9429.83</td>\n",
       "      <td>45196.64</td>\n",
       "      <td>2019/02/11 00:00:00+00</td>\n",
       "      <td>0.0</td>\n",
       "      <td>NaN</td>\n",
       "    </tr>\n",
       "    <tr>\n",
       "      <th>4</th>\n",
       "      <td>Board Of Elections</td>\n",
       "      <td>ABSENTEE BALLOT COORDINATOR</td>\n",
       "      <td>Temp</td>\n",
       "      <td>1406.51</td>\n",
       "      <td>0.0</td>\n",
       "      <td>0.00</td>\n",
       "      <td>1406.51</td>\n",
       "      <td>2022/05/01 00:00:00+00</td>\n",
       "      <td>0.0</td>\n",
       "      <td>NaN</td>\n",
       "    </tr>\n",
       "  </tbody>\n",
       "</table>\n",
       "</div>"
      ],
      "text/plain": [
       "           Department                    Job_Title  \\\n",
       "0  Board Of Elections  ABSENTEE BALLOT COORDINATOR   \n",
       "1                 Law             ADMINISTRATOR II   \n",
       "2     Social Services             OFFICE ASSISTANT   \n",
       "3        Public Works      AUTO EQUIPMENT OPERATOR   \n",
       "4  Board Of Elections  ABSENTEE BALLOT COORDINATOR   \n",
       "\n",
       "                                     Bargaining_Unit    Salary  Longevity_Pay  \\\n",
       "0                                               Temp   2641.25            0.0   \n",
       "1  Association of Municipal Employees (AME-White ...  84950.80         2250.0   \n",
       "2                                               Temp   3150.00            0.0   \n",
       "3  Association of Municipal Employees (AME-Blue C...  34992.39            0.0   \n",
       "4                                               Temp   1406.51            0.0   \n",
       "\n",
       "   Overtime_Pay  Total_Pay               Hire_Date  Termination_Pay  \\\n",
       "0          0.00    2641.25  2022/05/01 00:00:00+00              0.0   \n",
       "1        984.69   92646.91  1999/05/03 00:00:00+00              0.0   \n",
       "2          0.00    3150.00  2022/01/31 00:00:00+00              0.0   \n",
       "3       9429.83   45196.64  2019/02/11 00:00:00+00              0.0   \n",
       "4          0.00    1406.51  2022/05/01 00:00:00+00              0.0   \n",
       "\n",
       "         Termination_Date  \n",
       "0                     NaN  \n",
       "1                     NaN  \n",
       "2  2022/04/20 00:00:00+00  \n",
       "3                     NaN  \n",
       "4                     NaN  "
      ]
     },
     "execution_count": 6,
     "metadata": {},
     "output_type": "execute_result"
    }
   ],
   "source": [
    "df.head()"
   ]
  },
  {
   "cell_type": "code",
   "execution_count": 7,
   "id": "0620fd47-371c-4ad1-8ee2-df78e10f61aa",
   "metadata": {
    "tags": []
   },
   "outputs": [],
   "source": [
    "# exporting to csv\n",
    "df.to_csv('county_salaries_final.csv', index=False)"
   ]
  }
 ],
 "metadata": {
  "kernelspec": {
   "display_name": "Python 3 (ipykernel)",
   "language": "python",
   "name": "python3"
  },
  "language_info": {
   "codemirror_mode": {
    "name": "ipython",
    "version": 3
   },
   "file_extension": ".py",
   "mimetype": "text/x-python",
   "name": "python",
   "nbconvert_exporter": "python",
   "pygments_lexer": "ipython3",
   "version": "3.11.3"
  }
 },
 "nbformat": 4,
 "nbformat_minor": 5
}
